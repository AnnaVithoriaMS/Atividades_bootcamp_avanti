{
  "nbformat": 4,
  "nbformat_minor": 0,
  "metadata": {
    "colab": {
      "provenance": [],
      "authorship_tag": "ABX9TyMDfARrnnNfQRTNDGt9Vt4/",
      "include_colab_link": true
    },
    "kernelspec": {
      "name": "python3",
      "display_name": "Python 3"
    },
    "language_info": {
      "name": "python"
    }
  },
  "cells": [
    {
      "cell_type": "markdown",
      "metadata": {
        "id": "view-in-github",
        "colab_type": "text"
      },
      "source": [
        "<a href=\"https://colab.research.google.com/github/AnnaVithoriaMS/Atividades_bootcamp_avanti/blob/main/Aula2_Revis%C3%A3o_de_Pytho.ipynb\" target=\"_parent\"><img src=\"https://colab.research.google.com/assets/colab-badge.svg\" alt=\"Open In Colab\"/></a>"
      ]
    },
    {
      "cell_type": "markdown",
      "source": [
        "# **Questôes de Revisão de Python**"
      ],
      "metadata": {
        "id": "osHRP3tM1Dz1"
      }
    },
    {
      "cell_type": "markdown",
      "source": [
        "Variáveis e Operadores"
      ],
      "metadata": {
        "id": "VVrxvoZw1K1H"
      }
    },
    {
      "cell_type": "code",
      "execution_count": null,
      "metadata": {
        "id": "4AQdSU9by9Bt"
      },
      "outputs": [],
      "source": [
        "#ITEM A\n",
        "def soma(x,y):\n",
        "    return x + y\n",
        "def subtracao(x,y):\n",
        "    return (x - y)\n",
        "def multiplicacao(x,y):\n",
        "    return(x*y)\n",
        "def divisao(x,y):\n",
        "    if y == 0:\n",
        "        res = f'Não é possivel divisão por zero'\n",
        "    else:\n",
        "        res = x/y\n",
        "    return res\n"
      ]
    },
    {
      "cell_type": "code",
      "source": [
        "\n",
        "num1 = float(input('Digite um número : '))\n",
        "num2 = float(input('Digite outro numero : '))\n",
        "print('Soma : ',soma(num1,num2))\n",
        "print('Subtração : ',subtracao(num1,num2))\n",
        "print('Multiplicação : ',multiplicacao(num1,num2))\n",
        "print('Divisão : ',divisao(num1,num2))"
      ],
      "metadata": {
        "colab": {
          "base_uri": "https://localhost:8080/"
        },
        "id": "964U90o81lA6",
        "outputId": "b1a38ae9-be73-46d3-b285-a7ec8b5d5c9b"
      },
      "execution_count": null,
      "outputs": [
        {
          "output_type": "stream",
          "name": "stdout",
          "text": [
            "Digite um número : 18\n",
            "Digite outro numero : 12\n",
            "Soma :  30\n",
            "Subtração :  6\n",
            "Multiplicação :  216\n",
            "Divisão :  1.5\n"
          ]
        }
      ]
    },
    {
      "cell_type": "code",
      "source": [
        "#Item B\n",
        "import math\n",
        "def area_circulo(raio):\n",
        "    area = math.pi*raio*raio\n",
        "    return area"
      ],
      "metadata": {
        "id": "_6SBAB8V2Qm_"
      },
      "execution_count": null,
      "outputs": []
    },
    {
      "cell_type": "code",
      "source": [
        "raio = float(input('Digite o raio do círculo '))\n",
        "print(f'A area do círculo é {area_circulo(raio):.2f}')"
      ],
      "metadata": {
        "colab": {
          "base_uri": "https://localhost:8080/"
        },
        "id": "Qah1cnEt2lKT",
        "outputId": "16e697bd-e7e3-46c5-c4b7-b756a31b7630"
      },
      "execution_count": null,
      "outputs": [
        {
          "output_type": "stream",
          "name": "stdout",
          "text": [
            "Digite o raio do círculo 3.5\n",
            "A area do círculo é 38.48\n"
          ]
        }
      ]
    },
    {
      "cell_type": "markdown",
      "source": [
        "Estruturas de Seleção e Repetição"
      ],
      "metadata": {
        "id": "axK8Sh4r3keP"
      }
    },
    {
      "cell_type": "code",
      "source": [
        "#ITEM A\n",
        "def menor(idade):\n",
        "    if idade < 18:\n",
        "        res = f'Sua idade é {idade} você é menor de idade'\n",
        "    else:\n",
        "        res = f'Sua idade é {idade} você é maior de idade'\n",
        "    return res"
      ],
      "metadata": {
        "id": "nPifrP0t3kPx"
      },
      "execution_count": null,
      "outputs": []
    },
    {
      "cell_type": "code",
      "source": [
        "idade = int(input('Digite sua idade '))\n",
        "menor(idade)"
      ],
      "metadata": {
        "colab": {
          "base_uri": "https://localhost:8080/",
          "height": 53
        },
        "id": "abhMlYqo3fDi",
        "outputId": "4904c025-f9b1-49e6-dc5c-6af6d2ae0a1c"
      },
      "execution_count": null,
      "outputs": [
        {
          "name": "stdout",
          "output_type": "stream",
          "text": [
            "Digite sua idade 30\n"
          ]
        },
        {
          "output_type": "execute_result",
          "data": {
            "text/plain": [
              "'Sua idade é 30 você é maior de idade'"
            ],
            "application/vnd.google.colaboratory.intrinsic+json": {
              "type": "string"
            }
          },
          "metadata": {},
          "execution_count": 16
        }
      ]
    },
    {
      "cell_type": "code",
      "source": [
        "#ITEM B\n",
        "import random\n",
        "\n",
        "numero_secreto = random.randint(1, 100)\n",
        "num_usuario = int(input('Digite seu palpite '))\n",
        "while numero_secreto != num_usuario:\n",
        "    print('Voce errou. Tente novamente.')\n",
        "    if numero_secreto > num_usuario:\n",
        "        print('Voce digitou um número menor que o correto ')\n",
        "        num_usuario = int(input('Digite seu palpite '))\n",
        "    elif numero_secreto < num_usuario:\n",
        "        print('Voce digitou um número maior que o correto ')\n",
        "        num_usuario = int(input('Digite seu palpite '))\n",
        "print('Parabens, você acertou!')"
      ],
      "metadata": {
        "colab": {
          "base_uri": "https://localhost:8080/"
        },
        "id": "JKGvgEkR42mc",
        "outputId": "547ed45f-89be-47b7-dd02-9bca3760e1d4"
      },
      "execution_count": null,
      "outputs": [
        {
          "output_type": "stream",
          "name": "stdout",
          "text": [
            "Digite seu palpite 75\n",
            "Voce errou. Tente novamente.\n",
            "Voce digitou um número maior que o correto \n",
            "Digite seu palpite 60\n",
            "Voce errou. Tente novamente.\n",
            "Voce digitou um número maior que o correto \n",
            "Digite seu palpite 50\n",
            "Voce errou. Tente novamente.\n",
            "Voce digitou um número maior que o correto \n",
            "Digite seu palpite 40\n",
            "Voce errou. Tente novamente.\n",
            "Voce digitou um número maior que o correto \n",
            "Digite seu palpite 20\n",
            "Voce errou. Tente novamente.\n",
            "Voce digitou um número menor que o correto \n",
            "Digite seu palpite 30\n",
            "Voce errou. Tente novamente.\n",
            "Voce digitou um número maior que o correto \n",
            "Digite seu palpite 25\n",
            "Voce errou. Tente novamente.\n",
            "Voce digitou um número menor que o correto \n",
            "Digite seu palpite 28\n",
            "Parabens, você acertou!\n"
          ]
        }
      ]
    },
    {
      "cell_type": "markdown",
      "source": [
        "Coleções"
      ],
      "metadata": {
        "id": "oqgbyi8s9j8L"
      }
    },
    {
      "cell_type": "code",
      "source": [
        "#Item a\n",
        "lista =[]\n",
        "for i in range(0,5):\n",
        "    num = int(input('Digite o numero '))\n",
        "    lista.append(num)\n",
        "print(lista)"
      ],
      "metadata": {
        "colab": {
          "base_uri": "https://localhost:8080/"
        },
        "id": "fqUvXctJ61jR",
        "outputId": "3cfb2125-2f64-4bd7-cfa1-bdbc14dd3e6d"
      },
      "execution_count": null,
      "outputs": [
        {
          "output_type": "stream",
          "name": "stdout",
          "text": [
            "Digite o numero 12\n",
            "Digite o numero 78\n",
            "Digite o numero 23\n",
            "Digite o numero 5\n",
            "Digite o numero 86\n",
            "[12, 78, 23, 5, 86]\n"
          ]
        }
      ]
    },
    {
      "cell_type": "code",
      "source": [
        "lista = [34, 78,90,45,67]\n",
        "for i in lista:\n",
        "    print(i)"
      ],
      "metadata": {
        "colab": {
          "base_uri": "https://localhost:8080/"
        },
        "id": "TFTqgBWi9cXO",
        "outputId": "6acb197b-f354-4de7-aa9b-d35cfdfe7d9d"
      },
      "execution_count": null,
      "outputs": [
        {
          "output_type": "stream",
          "name": "stdout",
          "text": [
            "34\n",
            "78\n",
            "90\n",
            "45\n",
            "67\n"
          ]
        }
      ]
    },
    {
      "cell_type": "code",
      "source": [
        "#Item b\n",
        "\n",
        "animais = ('gato', 'cachorro', 'vaca', 'coelho', 'peixe')\n",
        "\n",
        "animal = input('Digite o nome do animal ')\n",
        "if animal in (animais):\n",
        "    print(f'O {animal} está na lista ')\n",
        "else:\n",
        "    print(f'O {animal} não está na lista ')"
      ],
      "metadata": {
        "colab": {
          "base_uri": "https://localhost:8080/"
        },
        "id": "sPcRyFWt98CZ",
        "outputId": "7d6f3002-597c-4c0c-a603-343c1009b62c"
      },
      "execution_count": null,
      "outputs": [
        {
          "output_type": "stream",
          "name": "stdout",
          "text": [
            "Digite o nome do animal gato\n",
            "O gato está na lista \n"
          ]
        }
      ]
    },
    {
      "cell_type": "markdown",
      "source": [
        "Reutilização de código"
      ],
      "metadata": {
        "id": "A8QQ4P-W--wv"
      }
    },
    {
      "cell_type": "code",
      "source": [
        "#Item a\n",
        "def ola_mundo(nome):\n",
        "\n",
        "    res = f'Olá, {nome.capitalize()}. Seja bem vindo !'\n",
        "    return res\n",
        "\n",
        "nome = input('Digite o nome ')\n",
        "ola_mundo(nome)"
      ],
      "metadata": {
        "colab": {
          "base_uri": "https://localhost:8080/",
          "height": 53
        },
        "id": "QGxce_bp-7lZ",
        "outputId": "031b2a22-2429-44f0-84aa-124a3d3412b1"
      },
      "execution_count": null,
      "outputs": [
        {
          "name": "stdout",
          "output_type": "stream",
          "text": [
            "Digite o nome paulo\n"
          ]
        },
        {
          "output_type": "execute_result",
          "data": {
            "text/plain": [
              "'Olá, Paulo. Seja bem vindo !'"
            ],
            "application/vnd.google.colaboratory.intrinsic+json": {
              "type": "string"
            }
          },
          "metadata": {},
          "execution_count": 28
        }
      ]
    },
    {
      "cell_type": "code",
      "source": [
        "#item b\n",
        "def primo(num):\n",
        "    cont = 0\n",
        "    if num > 1:\n",
        "        for i in range(2,num):\n",
        "            div = num % i == 0\n",
        "            if div:\n",
        "                cont +=1\n",
        "        if cont == 0:\n",
        "            print('Primo')\n",
        "        else:\n",
        "            print('Não é primo')"
      ],
      "metadata": {
        "id": "SkxH5xfQ_lI9"
      },
      "execution_count": null,
      "outputs": []
    },
    {
      "cell_type": "code",
      "source": [
        "lst = [12, 11, 13, 35, 23, 17]\n",
        "for i in lst:\n",
        "    primo(i)"
      ],
      "metadata": {
        "colab": {
          "base_uri": "https://localhost:8080/"
        },
        "id": "bVoelXZwNQ0k",
        "outputId": "56e9498c-7e45-48d7-b301-b4a607c425a0"
      },
      "execution_count": null,
      "outputs": [
        {
          "output_type": "stream",
          "name": "stdout",
          "text": [
            "Não é primo\n",
            "Primo\n",
            "Primo\n",
            "Não é primo\n",
            "Primo\n",
            "Primo\n"
          ]
        }
      ]
    }
  ]
}